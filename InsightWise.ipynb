{
 "cells": [
  {
   "cell_type": "code",
   "execution_count": 1,
   "metadata": {},
   "outputs": [
    {
     "name": "stdout",
     "output_type": "stream",
     "text": [
      "Requirement already satisfied: pandas in c:\\users\\user\\appdata\\local\\programs\\python\\python310\\lib\\site-packages (2.2.2)\n",
      "Requirement already satisfied: numpy>=1.22.4 in c:\\users\\user\\appdata\\local\\programs\\python\\python310\\lib\\site-packages (from pandas) (2.1.1)\n",
      "Requirement already satisfied: python-dateutil>=2.8.2 in c:\\users\\user\\appdata\\roaming\\python\\python310\\site-packages (from pandas) (2.9.0.post0)\n",
      "Requirement already satisfied: pytz>=2020.1 in c:\\users\\user\\appdata\\local\\programs\\python\\python310\\lib\\site-packages (from pandas) (2024.1)\n",
      "Requirement already satisfied: tzdata>=2022.7 in c:\\users\\user\\appdata\\local\\programs\\python\\python310\\lib\\site-packages (from pandas) (2024.1)\n",
      "Requirement already satisfied: six>=1.5 in c:\\users\\user\\appdata\\roaming\\python\\python310\\site-packages (from python-dateutil>=2.8.2->pandas) (1.16.0)\n",
      "Note: you may need to restart the kernel to use updated packages.\n"
     ]
    }
   ],
   "source": [
    "pip install pandas\n"
   ]
  },
  {
   "cell_type": "code",
   "execution_count": 2,
   "metadata": {},
   "outputs": [
    {
     "name": "stdout",
     "output_type": "stream",
     "text": [
      "Requirement already satisfied: cx_Oracle in c:\\users\\user\\appdata\\local\\programs\\python\\python310\\lib\\site-packages (8.3.0)\n",
      "Note: you may need to restart the kernel to use updated packages.\n"
     ]
    }
   ],
   "source": [
    "pip install cx_Oracle \n"
   ]
  },
  {
   "cell_type": "code",
   "execution_count": 3,
   "metadata": {},
   "outputs": [
    {
     "name": "stdout",
     "output_type": "stream",
     "text": [
      "Requirement already satisfied: matplotlib in c:\\users\\user\\appdata\\local\\programs\\python\\python310\\lib\\site-packages (3.9.2)\n",
      "Requirement already satisfied: contourpy>=1.0.1 in c:\\users\\user\\appdata\\local\\programs\\python\\python310\\lib\\site-packages (from matplotlib) (1.3.0)\n",
      "Requirement already satisfied: cycler>=0.10 in c:\\users\\user\\appdata\\local\\programs\\python\\python310\\lib\\site-packages (from matplotlib) (0.12.1)\n",
      "Requirement already satisfied: fonttools>=4.22.0 in c:\\users\\user\\appdata\\local\\programs\\python\\python310\\lib\\site-packages (from matplotlib) (4.53.1)\n",
      "Requirement already satisfied: kiwisolver>=1.3.1 in c:\\users\\user\\appdata\\local\\programs\\python\\python310\\lib\\site-packages (from matplotlib) (1.4.7)\n",
      "Requirement already satisfied: numpy>=1.23 in c:\\users\\user\\appdata\\local\\programs\\python\\python310\\lib\\site-packages (from matplotlib) (2.1.1)\n",
      "Requirement already satisfied: packaging>=20.0 in c:\\users\\user\\appdata\\roaming\\python\\python310\\site-packages (from matplotlib) (24.1)\n",
      "Requirement already satisfied: pillow>=8 in c:\\users\\user\\appdata\\local\\programs\\python\\python310\\lib\\site-packages (from matplotlib) (10.4.0)\n",
      "Requirement already satisfied: pyparsing>=2.3.1 in c:\\users\\user\\appdata\\local\\programs\\python\\python310\\lib\\site-packages (from matplotlib) (3.1.4)\n",
      "Requirement already satisfied: python-dateutil>=2.7 in c:\\users\\user\\appdata\\roaming\\python\\python310\\site-packages (from matplotlib) (2.9.0.post0)\n",
      "Requirement already satisfied: six>=1.5 in c:\\users\\user\\appdata\\roaming\\python\\python310\\site-packages (from python-dateutil>=2.7->matplotlib) (1.16.0)\n",
      "Note: you may need to restart the kernel to use updated packages.\n"
     ]
    }
   ],
   "source": [
    "pip install matplotlib\n"
   ]
  },
  {
   "cell_type": "code",
   "execution_count": 4,
   "metadata": {},
   "outputs": [
    {
     "name": "stdout",
     "output_type": "stream",
     "text": [
      "Requirement already satisfied: plotly in c:\\users\\user\\appdata\\local\\programs\\python\\python310\\lib\\site-packages (5.24.1)\n",
      "Requirement already satisfied: tenacity>=6.2.0 in c:\\users\\user\\appdata\\local\\programs\\python\\python310\\lib\\site-packages (from plotly) (8.5.0)\n",
      "Requirement already satisfied: packaging in c:\\users\\user\\appdata\\roaming\\python\\python310\\site-packages (from plotly) (24.1)\n",
      "Note: you may need to restart the kernel to use updated packages.\n"
     ]
    }
   ],
   "source": [
    "pip install plotly"
   ]
  },
  {
   "cell_type": "code",
   "execution_count": 5,
   "metadata": {},
   "outputs": [
    {
     "name": "stdout",
     "output_type": "stream",
     "text": [
      "Requirement already satisfied: sqlalchemy in c:\\users\\user\\appdata\\local\\programs\\python\\python310\\lib\\site-packages (2.0.35)\n",
      "Requirement already satisfied: typing-extensions>=4.6.0 in c:\\users\\user\\appdata\\roaming\\python\\python310\\site-packages (from sqlalchemy) (4.12.2)\n",
      "Requirement already satisfied: greenlet!=0.4.17 in c:\\users\\user\\appdata\\local\\programs\\python\\python310\\lib\\site-packages (from sqlalchemy) (3.1.1)\n",
      "Note: you may need to restart the kernel to use updated packages.\n"
     ]
    }
   ],
   "source": [
    "pip install sqlalchemy\n"
   ]
  },
  {
   "cell_type": "code",
   "execution_count": 7,
   "metadata": {},
   "outputs": [
    {
     "name": "stdout",
     "output_type": "stream",
     "text": [
      "Conexão bem-sucedida!\n"
     ]
    }
   ],
   "source": [
    "import cx_Oracle\n",
    "import pandas as pd\n",
    "from sqlalchemy import create_engine\n",
    "\n",
    "# Detalhes da conexão\n",
    "username = 'rm551365'  # Substitua pelo seu nome de usuário do Oracle\n",
    "password = '191097'     # Substitua pela sua senha do Oracle\n",
    "dsn = cx_Oracle.makedsn(\"oracle.fiap.com.br\", \"1521\", \"ORCL\")\n",
    "\n",
    "# Criando a engine de conexão com SQLAlchemy\n",
    "engine = create_engine(f'oracle+cx_oracle://{username}:{password}@{dsn}')\n",
    "\n",
    "# Inicializando a variável de conexão\n",
    "connection = None  \n",
    "\n",
    "# Tente conectar\n",
    "connection = engine.connect()\n",
    "print(\"Conexão bem-sucedida!\")\n",
    "\n",
    "\n"
   ]
  },
  {
   "cell_type": "code",
   "execution_count": 8,
   "metadata": {},
   "outputs": [
    {
     "name": "stdout",
     "output_type": "stream",
     "text": [
      "DataFrame da Tabela iw_passoideal:\n",
      "   passoidealid     local_clique tipo_clique  tempo_estimado  \\\n",
      "0             1    inputEmitente   preencher 0 days 00:02:00   \n",
      "1             2  inputNotaFiscal   preencher 0 days 00:02:00   \n",
      "2             3    inputDetalhes   preencher 0 days 00:02:00   \n",
      "3             4     btnConfirmar      clicar 0 days 00:01:00   \n",
      "4             5    inputEmitente   preencher 0 days 00:02:00   \n",
      "5             6      btnCancelar      clicar 0 days 00:01:00   \n",
      "\n",
      "   iw_processoideal_proceidealid  \n",
      "0                              2  \n",
      "1                              2  \n",
      "2                              2  \n",
      "3                              2  \n",
      "4                              2  \n",
      "5                              2  \n",
      "\n",
      "DataFrame da Tabela iw_passoreal:\n",
      "   passorealid     local_clique tipo_clique      tempo_real  \\\n",
      "0            8    inputEmitente   preencher 0 days 00:02:00   \n",
      "1            9  inputNotaFiscal   preencher 0 days 00:02:00   \n",
      "2           10    inputDetalhes   preencher 0 days 00:02:00   \n",
      "3           11  inputOutroCampo   preencher 0 days 00:02:00   \n",
      "4           12   inputValidacao   preencher 0 days 00:02:00   \n",
      "5           13     btnConfirmar      clicar 0 days 00:01:00   \n",
      "6           14      btnCancelar      clicar 0 days 00:01:00   \n",
      "\n",
      "   iw_processoreal_processorealid  \n",
      "0                               1  \n",
      "1                               1  \n",
      "2                               1  \n",
      "3                               1  \n",
      "4                               1  \n",
      "5                               1  \n",
      "6                               1  \n"
     ]
    }
   ],
   "source": [
    "# Passo 1: Carregar as tabelas relevantes no Pandas DataFrame\n",
    "query_ideal = \"SELECT * FROM iw_passoideal\"\n",
    "query_real = \"SELECT * FROM iw_passoreal\"\n",
    "\n",
    "df_ideal = pd.read_sql(query_ideal, con=connection)\n",
    "df_real = pd.read_sql(query_real, con=connection)\n",
    "\n",
    "# Exibir os DataFrames\n",
    "print(\"DataFrame da Tabela iw_passoideal:\")\n",
    "print(df_ideal)\n",
    "\n",
    "print(\"\\nDataFrame da Tabela iw_passoreal:\")\n",
    "print(df_real)"
   ]
  },
  {
   "cell_type": "code",
   "execution_count": 19,
   "metadata": {},
   "outputs": [
    {
     "name": "stdout",
     "output_type": "stream",
     "text": [
      "passoidealid                       int64\n",
      "local_clique                      object\n",
      "tipo_clique                       object\n",
      "tempo_estimado                   float64\n",
      "iw_processoideal_proceidealid      int64\n",
      "dtype: object\n",
      "passorealid                                 int64\n",
      "local_clique                               object\n",
      "tipo_clique                                object\n",
      "tempo_real                        timedelta64[ns]\n",
      "iw_processoreal_processorealid              int64\n",
      "dtype: object\n"
     ]
    }
   ],
   "source": [
    "print(df_ideal.dtypes)\n",
    "print(df_real.dtypes)\n"
   ]
  }
 ],
 "metadata": {
  "kernelspec": {
   "display_name": "Python 3",
   "language": "python",
   "name": "python3"
  },
  "language_info": {
   "codemirror_mode": {
    "name": "ipython",
    "version": 3
   },
   "file_extension": ".py",
   "mimetype": "text/x-python",
   "name": "python",
   "nbconvert_exporter": "python",
   "pygments_lexer": "ipython3",
   "version": "3.10.0"
  }
 },
 "nbformat": 4,
 "nbformat_minor": 2
}
